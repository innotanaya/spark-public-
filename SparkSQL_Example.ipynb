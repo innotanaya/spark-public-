{
 "cells": [
  {
   "cell_type": "code",
   "execution_count": 1,
   "metadata": {},
   "outputs": [],
   "source": [
    "import pyspark\n",
    "import findspark\n",
    "\n",
    "findspark.init()"
   ]
  },
  {
   "cell_type": "code",
   "execution_count": 2,
   "metadata": {},
   "outputs": [],
   "source": [
    "# Create spark context in local mode\n",
    "sc = pyspark.SparkContext(\"local\")\n",
    "\n",
    "# Create spark sql context\n",
    "sqlContext = pyspark.SQLContext(sc)"
   ]
  },
  {
   "cell_type": "code",
   "execution_count": 3,
   "metadata": {},
   "outputs": [],
   "source": [
    "# Read dataset into Spark dataframe\n",
    "sdf = sqlContext.read.csv(\"train.csv\", header=True, mode=\"DROPMALFORMED\")\n",
    "\n",
    "# Register as table\n",
    "sdf.registerTempTable(\"tbltrain\")"
   ]
  },
  {
   "cell_type": "code",
   "execution_count": 4,
   "metadata": {},
   "outputs": [
    {
     "data": {
      "text/html": [
       "<div>\n",
       "<style scoped>\n",
       "    .dataframe tbody tr th:only-of-type {\n",
       "        vertical-align: middle;\n",
       "    }\n",
       "\n",
       "    .dataframe tbody tr th {\n",
       "        vertical-align: top;\n",
       "    }\n",
       "\n",
       "    .dataframe thead th {\n",
       "        text-align: right;\n",
       "    }\n",
       "</style>\n",
       "<table border=\"1\" class=\"dataframe\">\n",
       "  <thead>\n",
       "    <tr style=\"text-align: right;\">\n",
       "      <th></th>\n",
       "      <th>Name</th>\n",
       "    </tr>\n",
       "  </thead>\n",
       "  <tbody>\n",
       "    <tr>\n",
       "      <th>0</th>\n",
       "      <td>\"Andersson, Mr. August Edvard (\"\"Wennerstrom\"\")\"</td>\n",
       "    </tr>\n",
       "    <tr>\n",
       "      <th>1</th>\n",
       "      <td>\"Angle, Mrs. William A (Florence \"\"Mary\"\" Agne...</td>\n",
       "    </tr>\n",
       "    <tr>\n",
       "      <th>2</th>\n",
       "      <td>\"Barber, Miss. Ellen \"\"Nellie\"\"\"</td>\n",
       "    </tr>\n",
       "    <tr>\n",
       "      <th>3</th>\n",
       "      <td>\"Bowen, Mr. David John \"\"Dai\"\"\"</td>\n",
       "    </tr>\n",
       "    <tr>\n",
       "      <th>4</th>\n",
       "      <td>\"Bradley, Mr. George (\"\"George Arthur Brayton\"\")\"</td>\n",
       "    </tr>\n",
       "    <tr>\n",
       "      <th>5</th>\n",
       "      <td>\"Brown, Miss. Amelia \"\"Mildred\"\"\"</td>\n",
       "    </tr>\n",
       "    <tr>\n",
       "      <th>6</th>\n",
       "      <td>\"Carr, Miss. Helen \"\"Ellen\"\"\"</td>\n",
       "    </tr>\n",
       "    <tr>\n",
       "      <th>7</th>\n",
       "      <td>\"Cohen, Mr. Gurshon \"\"Gus\"\"\"</td>\n",
       "    </tr>\n",
       "    <tr>\n",
       "      <th>8</th>\n",
       "      <td>\"Collyer, Miss. Marjorie \"\"Lottie\"\"\"</td>\n",
       "    </tr>\n",
       "    <tr>\n",
       "      <th>9</th>\n",
       "      <td>\"Coutts, Master. Eden Leslie \"\"Neville\"\"\"</td>\n",
       "    </tr>\n",
       "  </tbody>\n",
       "</table>\n",
       "</div>"
      ],
      "text/plain": [
       "                                                Name\n",
       "0   \"Andersson, Mr. August Edvard (\"\"Wennerstrom\"\")\"\n",
       "1  \"Angle, Mrs. William A (Florence \"\"Mary\"\" Agne...\n",
       "2                   \"Barber, Miss. Ellen \"\"Nellie\"\"\"\n",
       "3                    \"Bowen, Mr. David John \"\"Dai\"\"\"\n",
       "4  \"Bradley, Mr. George (\"\"George Arthur Brayton\"\")\"\n",
       "5                  \"Brown, Miss. Amelia \"\"Mildred\"\"\"\n",
       "6                      \"Carr, Miss. Helen \"\"Ellen\"\"\"\n",
       "7                       \"Cohen, Mr. Gurshon \"\"Gus\"\"\"\n",
       "8               \"Collyer, Miss. Marjorie \"\"Lottie\"\"\"\n",
       "9          \"Coutts, Master. Eden Leslie \"\"Neville\"\"\""
      ]
     },
     "execution_count": 4,
     "metadata": {},
     "output_type": "execute_result"
    }
   ],
   "source": [
    "# Test query\n",
    "results = sqlContext.sql(\"select Name from tbltrain order by Name asc limit 10\")\n",
    "results.toPandas()"
   ]
  }
 ],
 "metadata": {
  "kernelspec": {
   "display_name": "Python 3",
   "language": "python",
   "name": "python3"
  },
  "language_info": {
   "codemirror_mode": {
    "name": "ipython",
    "version": 3
   },
   "file_extension": ".py",
   "mimetype": "text/x-python",
   "name": "python",
   "nbconvert_exporter": "python",
   "pygments_lexer": "ipython3",
   "version": "3.6.5"
  }
 },
 "nbformat": 4,
 "nbformat_minor": 2
}
